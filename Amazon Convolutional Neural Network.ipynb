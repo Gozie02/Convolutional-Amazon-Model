{
 "cells": [
  {
   "cell_type": "code",
   "execution_count": 1,
   "id": "edb4c918",
   "metadata": {},
   "outputs": [
    {
     "name": "stderr",
     "output_type": "stream",
     "text": [
      "C:\\Users\\uchei\\anaconda3\\anaconda3.8\\lib\\site-packages\\scipy\\__init__.py:138: UserWarning: A NumPy version >=1.16.5 and <1.23.0 is required for this version of SciPy (detected version 1.23.3)\n",
      "  warnings.warn(f\"A NumPy version >={np_minversion} and <{np_maxversion} is required for this version of \"\n"
     ]
    }
   ],
   "source": [
    "# Importing Required Libraries\n",
    "import pandas as pd\n",
    "import numpy as np\n",
    "import matplotlib.pyplot as plt\n",
    "import cv2\n",
    "import os\n",
    "import tensorflow as tf\n",
    "from keras.preprocessing.image import ImageDataGenerator\n",
    "from tensorflow.keras.models import Sequential\n",
    "from tensorflow.keras.layers import Dense, Flatten, BatchNormalization, Conv2D\n",
    "from tensorflow.keras.optimizers import Adam\n",
    "from tensorflow.keras.callbacks import EarlyStopping, ModelCheckpoint\n",
    "from tensorflow.keras.regularizers import l2\n",
    "from tensorflow.keras.layers import MaxPooling2D\n",
    "from tensorflow.keras.layers import Dropout"
   ]
  },
  {
   "cell_type": "code",
   "execution_count": 2,
   "id": "360d6fe8",
   "metadata": {},
   "outputs": [],
   "source": [
    "classes = pd.read_csv(r\"C:/Users/uchei/OneDrive/Desktop/Gozie/planet/planet/train_classes.csv\")"
   ]
  },
  {
   "cell_type": "code",
   "execution_count": 3,
   "id": "a9043de3",
   "metadata": {},
   "outputs": [
    {
     "data": {
      "text/html": [
       "<div>\n",
       "<style scoped>\n",
       "    .dataframe tbody tr th:only-of-type {\n",
       "        vertical-align: middle;\n",
       "    }\n",
       "\n",
       "    .dataframe tbody tr th {\n",
       "        vertical-align: top;\n",
       "    }\n",
       "\n",
       "    .dataframe thead th {\n",
       "        text-align: right;\n",
       "    }\n",
       "</style>\n",
       "<table border=\"1\" class=\"dataframe\">\n",
       "  <thead>\n",
       "    <tr style=\"text-align: right;\">\n",
       "      <th></th>\n",
       "      <th>image_name</th>\n",
       "      <th>tags</th>\n",
       "    </tr>\n",
       "  </thead>\n",
       "  <tbody>\n",
       "    <tr>\n",
       "      <th>0</th>\n",
       "      <td>train_0</td>\n",
       "      <td>haze primary</td>\n",
       "    </tr>\n",
       "    <tr>\n",
       "      <th>1</th>\n",
       "      <td>train_1</td>\n",
       "      <td>agriculture clear primary water</td>\n",
       "    </tr>\n",
       "    <tr>\n",
       "      <th>2</th>\n",
       "      <td>train_2</td>\n",
       "      <td>clear primary</td>\n",
       "    </tr>\n",
       "    <tr>\n",
       "      <th>3</th>\n",
       "      <td>train_3</td>\n",
       "      <td>clear primary</td>\n",
       "    </tr>\n",
       "    <tr>\n",
       "      <th>4</th>\n",
       "      <td>train_4</td>\n",
       "      <td>agriculture clear habitation primary road</td>\n",
       "    </tr>\n",
       "  </tbody>\n",
       "</table>\n",
       "</div>"
      ],
      "text/plain": [
       "  image_name                                       tags\n",
       "0    train_0                               haze primary\n",
       "1    train_1            agriculture clear primary water\n",
       "2    train_2                              clear primary\n",
       "3    train_3                              clear primary\n",
       "4    train_4  agriculture clear habitation primary road"
      ]
     },
     "execution_count": 3,
     "metadata": {},
     "output_type": "execute_result"
    }
   ],
   "source": [
    "classes.head()"
   ]
  },
  {
   "cell_type": "code",
   "execution_count": 4,
   "id": "e3d81ec5",
   "metadata": {},
   "outputs": [
    {
     "data": {
      "text/plain": [
       "['water',\n",
       " 'cloudy',\n",
       " 'clear',\n",
       " 'haze',\n",
       " 'primary',\n",
       " 'road',\n",
       " 'cultivation',\n",
       " 'conventional_mine',\n",
       " 'slash_burn',\n",
       " 'blooming',\n",
       " 'agriculture',\n",
       " 'selective_logging',\n",
       " 'bare_ground',\n",
       " 'blow_down',\n",
       " 'partly_cloudy',\n",
       " 'artisinal_mine',\n",
       " 'habitation']"
      ]
     },
     "execution_count": 4,
     "metadata": {},
     "output_type": "execute_result"
    }
   ],
   "source": [
    "#Creating a list of all labels contained in the dataframe\n",
    "labels = set()\n",
    "for i in range(len(classes)):\n",
    "    tags = classes['tags'][i].split(' ')\n",
    "    labels.update(tags)\n",
    "    \n",
    "    \n",
    "label_list = list(labels)\n",
    "label_list"
   ]
  },
  {
   "cell_type": "code",
   "execution_count": 5,
   "id": "29d69f99",
   "metadata": {},
   "outputs": [
    {
     "data": {
      "text/html": [
       "<div>\n",
       "<style scoped>\n",
       "    .dataframe tbody tr th:only-of-type {\n",
       "        vertical-align: middle;\n",
       "    }\n",
       "\n",
       "    .dataframe tbody tr th {\n",
       "        vertical-align: top;\n",
       "    }\n",
       "\n",
       "    .dataframe thead th {\n",
       "        text-align: right;\n",
       "    }\n",
       "</style>\n",
       "<table border=\"1\" class=\"dataframe\">\n",
       "  <thead>\n",
       "    <tr style=\"text-align: right;\">\n",
       "      <th></th>\n",
       "      <th>image_name</th>\n",
       "      <th>tags</th>\n",
       "      <th>water</th>\n",
       "      <th>cloudy</th>\n",
       "      <th>clear</th>\n",
       "      <th>haze</th>\n",
       "      <th>primary</th>\n",
       "      <th>road</th>\n",
       "      <th>cultivation</th>\n",
       "      <th>conventional_mine</th>\n",
       "      <th>slash_burn</th>\n",
       "      <th>blooming</th>\n",
       "      <th>agriculture</th>\n",
       "      <th>selective_logging</th>\n",
       "      <th>bare_ground</th>\n",
       "      <th>blow_down</th>\n",
       "      <th>partly_cloudy</th>\n",
       "      <th>artisinal_mine</th>\n",
       "      <th>habitation</th>\n",
       "    </tr>\n",
       "  </thead>\n",
       "  <tbody>\n",
       "    <tr>\n",
       "      <th>0</th>\n",
       "      <td>train_0.jpg</td>\n",
       "      <td>haze primary</td>\n",
       "      <td>0</td>\n",
       "      <td>0</td>\n",
       "      <td>0</td>\n",
       "      <td>1</td>\n",
       "      <td>1</td>\n",
       "      <td>0</td>\n",
       "      <td>0</td>\n",
       "      <td>0</td>\n",
       "      <td>0</td>\n",
       "      <td>0</td>\n",
       "      <td>0</td>\n",
       "      <td>0</td>\n",
       "      <td>0</td>\n",
       "      <td>0</td>\n",
       "      <td>0</td>\n",
       "      <td>0</td>\n",
       "      <td>0</td>\n",
       "    </tr>\n",
       "    <tr>\n",
       "      <th>1</th>\n",
       "      <td>train_1.jpg</td>\n",
       "      <td>agriculture clear primary water</td>\n",
       "      <td>1</td>\n",
       "      <td>0</td>\n",
       "      <td>1</td>\n",
       "      <td>0</td>\n",
       "      <td>1</td>\n",
       "      <td>0</td>\n",
       "      <td>0</td>\n",
       "      <td>0</td>\n",
       "      <td>0</td>\n",
       "      <td>0</td>\n",
       "      <td>1</td>\n",
       "      <td>0</td>\n",
       "      <td>0</td>\n",
       "      <td>0</td>\n",
       "      <td>0</td>\n",
       "      <td>0</td>\n",
       "      <td>0</td>\n",
       "    </tr>\n",
       "    <tr>\n",
       "      <th>2</th>\n",
       "      <td>train_2.jpg</td>\n",
       "      <td>clear primary</td>\n",
       "      <td>0</td>\n",
       "      <td>0</td>\n",
       "      <td>1</td>\n",
       "      <td>0</td>\n",
       "      <td>1</td>\n",
       "      <td>0</td>\n",
       "      <td>0</td>\n",
       "      <td>0</td>\n",
       "      <td>0</td>\n",
       "      <td>0</td>\n",
       "      <td>0</td>\n",
       "      <td>0</td>\n",
       "      <td>0</td>\n",
       "      <td>0</td>\n",
       "      <td>0</td>\n",
       "      <td>0</td>\n",
       "      <td>0</td>\n",
       "    </tr>\n",
       "    <tr>\n",
       "      <th>3</th>\n",
       "      <td>train_3.jpg</td>\n",
       "      <td>clear primary</td>\n",
       "      <td>0</td>\n",
       "      <td>0</td>\n",
       "      <td>1</td>\n",
       "      <td>0</td>\n",
       "      <td>1</td>\n",
       "      <td>0</td>\n",
       "      <td>0</td>\n",
       "      <td>0</td>\n",
       "      <td>0</td>\n",
       "      <td>0</td>\n",
       "      <td>0</td>\n",
       "      <td>0</td>\n",
       "      <td>0</td>\n",
       "      <td>0</td>\n",
       "      <td>0</td>\n",
       "      <td>0</td>\n",
       "      <td>0</td>\n",
       "    </tr>\n",
       "    <tr>\n",
       "      <th>4</th>\n",
       "      <td>train_4.jpg</td>\n",
       "      <td>agriculture clear habitation primary road</td>\n",
       "      <td>0</td>\n",
       "      <td>0</td>\n",
       "      <td>1</td>\n",
       "      <td>0</td>\n",
       "      <td>1</td>\n",
       "      <td>1</td>\n",
       "      <td>0</td>\n",
       "      <td>0</td>\n",
       "      <td>0</td>\n",
       "      <td>0</td>\n",
       "      <td>1</td>\n",
       "      <td>0</td>\n",
       "      <td>0</td>\n",
       "      <td>0</td>\n",
       "      <td>0</td>\n",
       "      <td>0</td>\n",
       "      <td>1</td>\n",
       "    </tr>\n",
       "  </tbody>\n",
       "</table>\n",
       "</div>"
      ],
      "text/plain": [
       "    image_name                                       tags  water  cloudy  \\\n",
       "0  train_0.jpg                               haze primary      0       0   \n",
       "1  train_1.jpg            agriculture clear primary water      1       0   \n",
       "2  train_2.jpg                              clear primary      0       0   \n",
       "3  train_3.jpg                              clear primary      0       0   \n",
       "4  train_4.jpg  agriculture clear habitation primary road      0       0   \n",
       "\n",
       "   clear  haze  primary  road  cultivation  conventional_mine  slash_burn  \\\n",
       "0      0     1        1     0            0                  0           0   \n",
       "1      1     0        1     0            0                  0           0   \n",
       "2      1     0        1     0            0                  0           0   \n",
       "3      1     0        1     0            0                  0           0   \n",
       "4      1     0        1     1            0                  0           0   \n",
       "\n",
       "   blooming  agriculture  selective_logging  bare_ground  blow_down  \\\n",
       "0         0            0                  0            0          0   \n",
       "1         0            1                  0            0          0   \n",
       "2         0            0                  0            0          0   \n",
       "3         0            0                  0            0          0   \n",
       "4         0            1                  0            0          0   \n",
       "\n",
       "   partly_cloudy  artisinal_mine  habitation  \n",
       "0              0               0           0  \n",
       "1              0               0           0  \n",
       "2              0               0           0  \n",
       "3              0               0           0  \n",
       "4              0               0           1  "
      ]
     },
     "execution_count": 5,
     "metadata": {},
     "output_type": "execute_result"
    }
   ],
   "source": [
    "# Add onehot features for every label in the list\n",
    "for label in label_list:\n",
    "    classes[label] = classes['tags'].apply(lambda x: 1 if label in x.split(' ') else 0)\n",
    "    \n",
    "    \n",
    "# adding '.jpg' extension to 'image_name'\n",
    "def append_ext(fn):\n",
    "    return fn+\".jpg\"\n",
    "\n",
    "classes[\"image_name\"]=classes[\"image_name\"].apply(append_ext)\n",
    "\n",
    "classes.head()"
   ]
  },
  {
   "cell_type": "code",
   "execution_count": 6,
   "id": "d46306ad",
   "metadata": {},
   "outputs": [
    {
     "data": {
      "text/plain": [
       "['water',\n",
       " 'cloudy',\n",
       " 'clear',\n",
       " 'haze',\n",
       " 'primary',\n",
       " 'road',\n",
       " 'cultivation',\n",
       " 'conventional_mine',\n",
       " 'slash_burn',\n",
       " 'blooming',\n",
       " 'agriculture',\n",
       " 'selective_logging',\n",
       " 'bare_ground',\n",
       " 'blow_down',\n",
       " 'partly_cloudy',\n",
       " 'artisinal_mine',\n",
       " 'habitation']"
      ]
     },
     "execution_count": 6,
     "metadata": {},
     "output_type": "execute_result"
    }
   ],
   "source": [
    "#Creating separate list to store columns\n",
    "image_types = list(classes.columns[2:])\n",
    "image_types"
   ]
  },
  {
   "cell_type": "code",
   "execution_count": 7,
   "id": "203c7ea0",
   "metadata": {},
   "outputs": [],
   "source": [
    "assert len(classes['image_name'].unique()) == classes.shape[0]"
   ]
  },
  {
   "cell_type": "code",
   "execution_count": 10,
   "id": "e87e27c5",
   "metadata": {},
   "outputs": [],
   "source": [
    "#loading all training data\n",
    "rootdir = 'C:/Users/uchei/OneDrive/Desktop/Gozie/planet/planet/train-jpg'\n",
    "for subdir, dirs, files in os.walk(rootdir):\n",
    "    for file in files:\n",
    "        train1 = cv2.imread(os.path.join(subdir, file))"
   ]
  },
  {
   "cell_type": "code",
   "execution_count": 11,
   "id": "a5d6ae35",
   "metadata": {},
   "outputs": [
    {
     "name": "stdout",
     "output_type": "stream",
     "text": [
      "Found 32384 validated image filenames.\n",
      "Found 8095 validated image filenames.\n"
     ]
    }
   ],
   "source": [
    "#Generating images and augmenting at the same time\n",
    "train_image_generator =ImageDataGenerator(rescale=1/255,validation_split=0.2,\n",
    "                                          rotation_range = 90, shear_range = 0.2, zoom_range = 0.2,\n",
    "                                          width_shift_range = 0.2, height_shift_range = 0.2,\n",
    "                                          horizontal_flip = True)\n",
    "\n",
    "# using a validation split here\n",
    "\n",
    "# generating the 80% training image data\n",
    "train_generator = train_image_generator.flow_from_dataframe(dataframe=classes,\n",
    "        directory=rootdir, x_col='image_name', y_col=image_types,\n",
    "       target_size=(128, 128), class_mode='raw', seed=0, batch_size=32, subset='training')\n",
    "\n",
    "# generating the 20% validation image data\n",
    "validation_generator = train_image_generator.flow_from_dataframe(dataframe=classes,\n",
    "        directory=rootdir, x_col='image_name', y_col=image_types,\n",
    "       target_size=(128, 128), class_mode='raw', seed=0, batch_size=32, subset='validation')"
   ]
  },
  {
   "cell_type": "code",
   "execution_count": 13,
   "id": "48ff57fc",
   "metadata": {},
   "outputs": [],
   "source": [
    "train_step_size = int(np.ceil(train_generator.samples / train_generator.batch_size))\n",
    "val_step_size = int(np.ceil(validation_generator.samples / train_generator.batch_size))"
   ]
  },
  {
   "cell_type": "code",
   "execution_count": 14,
   "id": "8fc0de95",
   "metadata": {},
   "outputs": [],
   "source": [
    "#defining accuracy function\n",
    "def fbeta(y_true , y_pred, beta=2, epsilon=1e-4):\n",
    "    squared_beta = beta**2\n",
    "\n",
    "    y_true = tf.cast(y_true, tf.float32)\n",
    "    y_pred = tf.cast(tf.greater(tf.cast(y_pred, tf.float32), tf.constant(0.2)), tf.float32)\n",
    "        \n",
    "    tp = tf.reduce_sum(y_true * y_pred, axis=1)\n",
    "    fp = tf.reduce_sum(y_pred, axis=1) - tp\n",
    "    fn = tf.reduce_sum(y_true, axis=1) - tp\n",
    "    \n",
    "    p = tp/(tp+fp+epsilon)   #precision\n",
    "    r = tp/(tp+fn+epsilon)   #recall\n",
    "    \n",
    "    fb = (1+squared_beta)*p*r / (squared_beta*p + r + epsilon)\n",
    "    return fb"
   ]
  },
  {
   "cell_type": "code",
   "execution_count": 15,
   "id": "9134fcc8",
   "metadata": {},
   "outputs": [],
   "source": [
    "#Creating checkpoints to prevent model overfitting\n",
    "checkpoint = ModelCheckpoint(filepath='weight_model.hdf5',monitor='val_fbeta', \n",
    "                             save_best_only=True, save_weights_only=True, mode='max', verbose = 1)\n",
    "early = EarlyStopping(monitor='val_fbeta', min_delta=0, patience=10, verbose=1, mode='max')"
   ]
  },
  {
   "cell_type": "code",
   "execution_count": 16,
   "id": "e0ab4226",
   "metadata": {},
   "outputs": [],
   "source": [
    "#Defining training parameters\n",
    "planet_model = Sequential([\n",
    "    Conv2D(32, kernel_size = 3, kernel_regularizer = l2(0.0005), strides = (1,1), padding = 'valid', activation = 'relu',input_shape = (128, 128, 3)),\n",
    "    MaxPooling2D(pool_size = (2,2)),\n",
    "    BatchNormalization(),\n",
    "    Conv2D(64, 3, activation = 'relu'),\n",
    "    MaxPooling2D(pool_size = (2,2)),\n",
    "    BatchNormalization(),\n",
    "    Conv2D(128, 3, activation = 'relu'),\n",
    "    MaxPooling2D(pool_size = (2,2)),\n",
    "    BatchNormalization(),\n",
    "    Flatten(),\n",
    "    Dense(512, activation = 'relu'),\n",
    "    Dense(17, activation = 'sigmoid')\n",
    "])\n",
    "planet_model.compile(loss = 'binary_crossentropy', optimizer = Adam(learning_rate=0.0001),metrics = [fbeta])"
   ]
  },
  {
   "cell_type": "code",
   "execution_count": 17,
   "id": "fdd4f157",
   "metadata": {
    "scrolled": false
   },
   "outputs": [
    {
     "name": "stdout",
     "output_type": "stream",
     "text": [
      "Epoch 1/20\n",
      "1012/1012 [==============================] - ETA: 0s - loss: 0.2495 - fbeta: 0.7829\n",
      "Epoch 00001: val_fbeta improved from -inf to 0.80267, saving model to weight_model.hdf5\n",
      "1012/1012 [==============================] - 723s 713ms/step - loss: 0.2495 - fbeta: 0.7829 - val_loss: 0.2227 - val_fbeta: 0.8027\n",
      "Epoch 2/20\n",
      "1012/1012 [==============================] - ETA: 0s - loss: 0.2045 - fbeta: 0.8148\n",
      "Epoch 00002: val_fbeta improved from 0.80267 to 0.81291, saving model to weight_model.hdf5\n",
      "1012/1012 [==============================] - 711s 703ms/step - loss: 0.2045 - fbeta: 0.8148 - val_loss: 0.1980 - val_fbeta: 0.8129\n",
      "Epoch 3/20\n",
      "1012/1012 [==============================] - ETA: 0s - loss: 0.1784 - fbeta: 0.8320\n",
      "Epoch 00003: val_fbeta improved from 0.81291 to 0.84248, saving model to weight_model.hdf5\n",
      "1012/1012 [==============================] - 708s 700ms/step - loss: 0.1784 - fbeta: 0.8320 - val_loss: 0.1682 - val_fbeta: 0.8425\n",
      "Epoch 4/20\n",
      "1012/1012 [==============================] - ETA: 0s - loss: 0.1638 - fbeta: 0.8456\n",
      "Epoch 00004: val_fbeta did not improve from 0.84248\n",
      "1012/1012 [==============================] - 788s 779ms/step - loss: 0.1638 - fbeta: 0.8456 - val_loss: 0.1650 - val_fbeta: 0.8370\n",
      "Epoch 5/20\n",
      "1012/1012 [==============================] - ETA: 0s - loss: 0.1578 - fbeta: 0.8509\n",
      "Epoch 00005: val_fbeta did not improve from 0.84248\n",
      "1012/1012 [==============================] - 737s 728ms/step - loss: 0.1578 - fbeta: 0.8509 - val_loss: 0.1637 - val_fbeta: 0.8329\n",
      "Epoch 6/20\n",
      "1012/1012 [==============================] - ETA: 0s - loss: 0.1534 - fbeta: 0.8554\n",
      "Epoch 00006: val_fbeta did not improve from 0.84248\n",
      "1012/1012 [==============================] - 733s 724ms/step - loss: 0.1534 - fbeta: 0.8554 - val_loss: 0.1630 - val_fbeta: 0.8408\n",
      "Epoch 7/20\n",
      "1012/1012 [==============================] - ETA: 0s - loss: 0.1496 - fbeta: 0.8598\n",
      "Epoch 00007: val_fbeta improved from 0.84248 to 0.86447, saving model to weight_model.hdf5\n",
      "1012/1012 [==============================] - 732s 723ms/step - loss: 0.1496 - fbeta: 0.8598 - val_loss: 0.1434 - val_fbeta: 0.8645\n",
      "Epoch 8/20\n",
      "1012/1012 [==============================] - ETA: 0s - loss: 0.1465 - fbeta: 0.8633\n",
      "Epoch 00008: val_fbeta did not improve from 0.86447\n",
      "1012/1012 [==============================] - 712s 703ms/step - loss: 0.1465 - fbeta: 0.8633 - val_loss: 0.1491 - val_fbeta: 0.8643\n",
      "Epoch 9/20\n",
      "1012/1012 [==============================] - ETA: 0s - loss: 0.1444 - fbeta: 0.8660\n",
      "Epoch 00009: val_fbeta improved from 0.86447 to 0.86565, saving model to weight_model.hdf5\n",
      "1012/1012 [==============================] - 708s 699ms/step - loss: 0.1444 - fbeta: 0.8660 - val_loss: 0.1434 - val_fbeta: 0.8656\n",
      "Epoch 10/20\n",
      "1012/1012 [==============================] - ETA: 0s - loss: 0.1424 - fbeta: 0.8681\n",
      "Epoch 00010: val_fbeta did not improve from 0.86565\n",
      "1012/1012 [==============================] - 696s 687ms/step - loss: 0.1424 - fbeta: 0.8681 - val_loss: 0.1480 - val_fbeta: 0.8593\n",
      "Epoch 11/20\n",
      "1012/1012 [==============================] - ETA: 0s - loss: 0.1408 - fbeta: 0.8700\n",
      "Epoch 00011: val_fbeta did not improve from 0.86565\n",
      "1012/1012 [==============================] - 698s 689ms/step - loss: 0.1408 - fbeta: 0.8700 - val_loss: 0.1496 - val_fbeta: 0.8566\n",
      "Epoch 12/20\n",
      "1012/1012 [==============================] - ETA: 0s - loss: 0.1392 - fbeta: 0.8708\n",
      "Epoch 00012: val_fbeta improved from 0.86565 to 0.87245, saving model to weight_model.hdf5\n",
      "1012/1012 [==============================] - 697s 689ms/step - loss: 0.1392 - fbeta: 0.8708 - val_loss: 0.1367 - val_fbeta: 0.8725\n",
      "Epoch 13/20\n",
      "1012/1012 [==============================] - ETA: 0s - loss: 0.1370 - fbeta: 0.8745\n",
      "Epoch 00013: val_fbeta improved from 0.87245 to 0.87338, saving model to weight_model.hdf5\n",
      "1012/1012 [==============================] - 689s 681ms/step - loss: 0.1370 - fbeta: 0.8745 - val_loss: 0.1422 - val_fbeta: 0.8734\n",
      "Epoch 14/20\n",
      "1012/1012 [==============================] - ETA: 0s - loss: 0.1361 - fbeta: 0.8754\n",
      "Epoch 00014: val_fbeta did not improve from 0.87338\n",
      "1012/1012 [==============================] - 716s 707ms/step - loss: 0.1361 - fbeta: 0.8754 - val_loss: 0.1446 - val_fbeta: 0.8627\n",
      "Epoch 15/20\n",
      "1012/1012 [==============================] - ETA: 0s - loss: 0.1342 - fbeta: 0.8780\n",
      "Epoch 00015: val_fbeta improved from 0.87338 to 0.87515, saving model to weight_model.hdf5\n",
      "1012/1012 [==============================] - 863s 853ms/step - loss: 0.1342 - fbeta: 0.8780 - val_loss: 0.1394 - val_fbeta: 0.8752\n",
      "Epoch 16/20\n",
      "1012/1012 [==============================] - ETA: 0s - loss: 0.1331 - fbeta: 0.8787\n",
      "Epoch 00016: val_fbeta did not improve from 0.87515\n",
      "1012/1012 [==============================] - 852s 842ms/step - loss: 0.1331 - fbeta: 0.8787 - val_loss: 0.1394 - val_fbeta: 0.8706\n",
      "Epoch 17/20\n",
      "1012/1012 [==============================] - ETA: 0s - loss: 0.1320 - fbeta: 0.8804\n",
      "Epoch 00017: val_fbeta did not improve from 0.87515\n",
      "1012/1012 [==============================] - 849s 839ms/step - loss: 0.1320 - fbeta: 0.8804 - val_loss: 0.1397 - val_fbeta: 0.8627\n",
      "Epoch 18/20\n",
      "1012/1012 [==============================] - ETA: 0s - loss: 0.1306 - fbeta: 0.8808\n",
      "Epoch 00018: val_fbeta improved from 0.87515 to 0.87574, saving model to weight_model.hdf5\n",
      "1012/1012 [==============================] - 851s 841ms/step - loss: 0.1306 - fbeta: 0.8808 - val_loss: 0.1326 - val_fbeta: 0.8757\n",
      "Epoch 19/20\n",
      "1012/1012 [==============================] - ETA: 0s - loss: 0.1299 - fbeta: 0.8825\n",
      "Epoch 00019: val_fbeta did not improve from 0.87574\n",
      "1012/1012 [==============================] - 853s 843ms/step - loss: 0.1299 - fbeta: 0.8825 - val_loss: 0.1415 - val_fbeta: 0.8612\n",
      "Epoch 20/20\n",
      "1012/1012 [==============================] - ETA: 0s - loss: 0.1289 - fbeta: 0.8834\n",
      "Epoch 00020: val_fbeta improved from 0.87574 to 0.88365, saving model to weight_model.hdf5\n",
      "1012/1012 [==============================] - 873s 863ms/step - loss: 0.1289 - fbeta: 0.8834 - val_loss: 0.1297 - val_fbeta: 0.8836\n"
     ]
    }
   ],
   "source": [
    "#training the model\n",
    "history = planet_model.fit(train_generator,\n",
    "                             epochs = 20,\n",
    "                             steps_per_epoch = train_step_size,\n",
    "                             validation_data = validation_generator,\n",
    "                             validation_steps = val_step_size,\n",
    "                             callbacks = [checkpoint, early])"
   ]
  },
  {
   "cell_type": "code",
   "execution_count": 18,
   "id": "b604d4b7",
   "metadata": {},
   "outputs": [
    {
     "data": {
      "text/plain": [
       "<matplotlib.legend.Legend at 0x28915c21eb0>"
      ]
     },
     "execution_count": 18,
     "metadata": {},
     "output_type": "execute_result"
    },
    {
     "data": {
      "image/png": "[encoded data removed]",
      "text/plain": [
       "<Figure size 576x576 with 2 Axes>"
      ]
     },
     "metadata": {
      "needs_background": "light"
     },
     "output_type": "display_data"
    }
   ],
   "source": [
    "plt.figure(1, figsize = (8,8)) \n",
    "plt.subplot(211)\n",
    "plt.title('Cross Entropy Loss')\n",
    "plt.plot(history.history['loss'], color='blue', label='train')\n",
    "plt.plot(history.history['val_loss'], color='orange', label='test')\n",
    "plt.ylabel('loss')  \n",
    "plt.xlabel('epoch')  \n",
    "plt.legend(['train', 'valid']) \n",
    "\n",
    "# plot accuracy\n",
    "plt.subplot(212)\n",
    "plt.title('Fbeta')\n",
    "plt.plot(history.history['fbeta'], color='blue', label='train')\n",
    "plt.plot(history.history['val_fbeta'], color='orange', label='test')\n",
    "plt.ylabel('accuracy')  \n",
    "plt.xlabel('epoch')  \n",
    "plt.legend(['train', 'valid']) "
   ]
  },
  {
   "cell_type": "code",
   "execution_count": 19,
   "id": "4c005775",
   "metadata": {},
   "outputs": [
    {
     "name": "stdout",
     "output_type": "stream",
     "text": [
      "253/253 [==============================] - 76s 301ms/step - loss: 0.1303 - fbeta: 0.8843\n",
      "Test loss: 0.13029499351978302\n",
      "Test accuracy: 0.8842754364013672\n"
     ]
    }
   ],
   "source": [
    "test_loss, test_accuracy = planet_model.evaluate(validation_generator)\n",
    "print('Test loss: {}'.format(test_loss))\n",
    "print('Test accuracy: {}'.format(test_accuracy))"
   ]
  },
  {
   "cell_type": "code",
   "execution_count": 20,
   "id": "3d095e24",
   "metadata": {},
   "outputs": [],
   "source": [
    "#Taking the format for submission\n",
    "sam_sub = pd.read_csv(r\"C:/Users/uchei/OneDrive/Desktop/Gozie/planet/planet/sample_submission.csv\")\n",
    "sam_sub['image_name'] = sam_sub['image_name'].apply(lambda i: '{}.jpg'.format(i))\n",
    "test1 = sam_sub.iloc[:40669]['image_name'].reset_index().drop('index', axis=1)\n",
    "testdir = 'C:/Users/uchei/OneDrive/Desktop/Gozie/planet/planet/test-jpg'"
   ]
  },
  {
   "cell_type": "code",
   "execution_count": 22,
   "id": "5a30f6af",
   "metadata": {},
   "outputs": [
    {
     "name": "stdout",
     "output_type": "stream",
     "text": [
      "Found 40669 validated image filenames.\n"
     ]
    }
   ],
   "source": [
    "test_image_generator1 = ImageDataGenerator(rescale=1/255)\n",
    "\n",
    "\n",
    "test_generator1 = test_image_generator1.flow_from_dataframe(dataframe=test1,\n",
    "            directory=testdir, x_col='image_name', y_col=None,\n",
    "            batch_size=32, shuffle=False, class_mode=None, target_size=(128, 128))\n",
    "\n",
    "# setting the step size \n",
    "test_step_size1 = int(np.ceil(test_generator1.samples / test_generator1.batch_size))"
   ]
  },
  {
   "cell_type": "code",
   "execution_count": 23,
   "id": "ceb21d09",
   "metadata": {},
   "outputs": [
    {
     "name": "stdout",
     "output_type": "stream",
     "text": [
      "1271/1271 [==============================] - 285s 224ms/step\n"
     ]
    }
   ],
   "source": [
    "test_generator1.reset() \n",
    "\n",
    "# prediction for test1\n",
    "prediction1 = planet_model.predict(test_generator1, steps=test_step_size1, verbose=1) "
   ]
  },
  {
   "cell_type": "code",
   "execution_count": 25,
   "id": "4fbcc4ba",
   "metadata": {},
   "outputs": [
    {
     "data": {
      "text/html": [
       "<div>\n",
       "<style scoped>\n",
       "    .dataframe tbody tr th:only-of-type {\n",
       "        vertical-align: middle;\n",
       "    }\n",
       "\n",
       "    .dataframe tbody tr th {\n",
       "        vertical-align: top;\n",
       "    }\n",
       "\n",
       "    .dataframe thead th {\n",
       "        text-align: right;\n",
       "    }\n",
       "</style>\n",
       "<table border=\"1\" class=\"dataframe\">\n",
       "  <thead>\n",
       "    <tr style=\"text-align: right;\">\n",
       "      <th></th>\n",
       "      <th>image_name</th>\n",
       "    </tr>\n",
       "  </thead>\n",
       "  <tbody>\n",
       "    <tr>\n",
       "      <th>0</th>\n",
       "      <td>file_0.jpg</td>\n",
       "    </tr>\n",
       "    <tr>\n",
       "      <th>1</th>\n",
       "      <td>file_1.jpg</td>\n",
       "    </tr>\n",
       "    <tr>\n",
       "      <th>2</th>\n",
       "      <td>file_10.jpg</td>\n",
       "    </tr>\n",
       "    <tr>\n",
       "      <th>3</th>\n",
       "      <td>file_100.jpg</td>\n",
       "    </tr>\n",
       "    <tr>\n",
       "      <th>4</th>\n",
       "      <td>file_1000.jpg</td>\n",
       "    </tr>\n",
       "  </tbody>\n",
       "</table>\n",
       "</div>"
      ],
      "text/plain": [
       "      image_name\n",
       "0     file_0.jpg\n",
       "1     file_1.jpg\n",
       "2    file_10.jpg\n",
       "3   file_100.jpg\n",
       "4  file_1000.jpg"
      ]
     },
     "execution_count": 25,
     "metadata": {},
     "output_type": "execute_result"
    }
   ],
   "source": [
    "testdir1 = 'C:/Users/uchei/OneDrive/Desktop/Gozie/test-jpg-additional/test-jpg-additional'\n",
    "# selecting the remaining image_name from the sample_submission to generate image data for test-additional.jpg\n",
    "test2 = sam_sub.iloc[40669:]['image_name'].reset_index().drop('index', axis=1)\n",
    "test2.head()"
   ]
  },
  {
   "cell_type": "code",
   "execution_count": 26,
   "id": "9849156c",
   "metadata": {},
   "outputs": [
    {
     "name": "stdout",
     "output_type": "stream",
     "text": [
      "Found 20522 validated image filenames.\n"
     ]
    }
   ],
   "source": [
    "test_image_generator2 = ImageDataGenerator(rescale=1/255)\n",
    "\n",
    "\n",
    "test_generator2 = test_image_generator2.flow_from_dataframe(dataframe=test2,\n",
    "            directory=testdir1, x_col='image_name', y_col=None,\n",
    "            batch_size=32, shuffle=False, class_mode=None, target_size=(128, 128))\n",
    "\n",
    "# setting the step size \n",
    "test_step_size2 = int(np.ceil(test_generator2.samples / test_generator2.batch_size))"
   ]
  },
  {
   "cell_type": "code",
   "execution_count": 27,
   "id": "f42144c6",
   "metadata": {},
   "outputs": [
    {
     "name": "stdout",
     "output_type": "stream",
     "text": [
      "642/642 [==============================] - 135s 210ms/step\n"
     ]
    }
   ],
   "source": [
    "# reseting the generator to avoid shuffling\n",
    "test_generator2.reset() \n",
    "\n",
    "# prediction for test2\n",
    "prediction2 = planet_model.predict(test_generator2, steps=test_step_size2, verbose=1)"
   ]
  },
  {
   "cell_type": "code",
   "execution_count": 28,
   "id": "d23485d2",
   "metadata": {},
   "outputs": [
    {
     "data": {
      "text/html": [
       "<div>\n",
       "<style scoped>\n",
       "    .dataframe tbody tr th:only-of-type {\n",
       "        vertical-align: middle;\n",
       "    }\n",
       "\n",
       "    .dataframe tbody tr th {\n",
       "        vertical-align: top;\n",
       "    }\n",
       "\n",
       "    .dataframe thead th {\n",
       "        text-align: right;\n",
       "    }\n",
       "</style>\n",
       "<table border=\"1\" class=\"dataframe\">\n",
       "  <thead>\n",
       "    <tr style=\"text-align: right;\">\n",
       "      <th></th>\n",
       "      <th>image_name</th>\n",
       "      <th>tags</th>\n",
       "    </tr>\n",
       "  </thead>\n",
       "  <tbody>\n",
       "    <tr>\n",
       "      <th>0</th>\n",
       "      <td>test_0.jpg</td>\n",
       "      <td>clear primary</td>\n",
       "    </tr>\n",
       "    <tr>\n",
       "      <th>1</th>\n",
       "      <td>test_1.jpg</td>\n",
       "      <td>clear primary</td>\n",
       "    </tr>\n",
       "    <tr>\n",
       "      <th>2</th>\n",
       "      <td>test_2.jpg</td>\n",
       "      <td>primary partly_cloudy</td>\n",
       "    </tr>\n",
       "    <tr>\n",
       "      <th>3</th>\n",
       "      <td>test_3.jpg</td>\n",
       "      <td>clear primary partly_cloudy</td>\n",
       "    </tr>\n",
       "    <tr>\n",
       "      <th>4</th>\n",
       "      <td>test_4.jpg</td>\n",
       "      <td>cloudy primary partly_cloudy</td>\n",
       "    </tr>\n",
       "  </tbody>\n",
       "</table>\n",
       "</div>"
      ],
      "text/plain": [
       "   image_name                          tags\n",
       "0  test_0.jpg                 clear primary\n",
       "1  test_1.jpg                 clear primary\n",
       "2  test_2.jpg         primary partly_cloudy\n",
       "3  test_3.jpg   clear primary partly_cloudy\n",
       "4  test_4.jpg  cloudy primary partly_cloudy"
      ]
     },
     "execution_count": 28,
     "metadata": {},
     "output_type": "execute_result"
    }
   ],
   "source": [
    "# obtaining the filenames from test_generator\n",
    "filenames1 = test_generator1.filenames \n",
    "        \n",
    "# converting the predictions of the first 40669 to tag names\n",
    "predict_tags1 = pd.DataFrame(prediction1)\n",
    "#Choosing predicted values over 20% to add to the tag column\n",
    "predict_tags1 = predict_tags1.apply(lambda x: ' '.join(np.array(label_list)[x > 0.2]), axis=1)\n",
    "\n",
    "# converting the predictions of the first 40669 to a dataframe\n",
    "result_df1 = pd.DataFrame({'image_name': filenames1, 'tags': predict_tags1})\n",
    "result_df1.head()"
   ]
  },
  {
   "cell_type": "code",
   "execution_count": 29,
   "id": "2c7ecf2c",
   "metadata": {},
   "outputs": [],
   "source": [
    "# obtaining the filenames from test_generator2\n",
    "filenames2 = test_generator2.filenames \n",
    "        \n",
    "# converting the predictions of the remaining images to tag names\n",
    "predict_tags2 = pd.DataFrame(prediction2)\n",
    "predict_tags2 = predict_tags2.apply(lambda x: ' '.join(np.array(label_list)[x > 0.2]), axis=1)\n",
    "\n",
    "# converting the predictions of the remaining to a dataframe\n",
    "result_df2 = pd.DataFrame({'image_name': filenames2, 'tags': predict_tags2})"
   ]
  },
  {
   "cell_type": "code",
   "execution_count": 30,
   "id": "02d6921a",
   "metadata": {},
   "outputs": [
    {
     "name": "stdout",
     "output_type": "stream",
     "text": [
      "(61191, 2)\n"
     ]
    },
    {
     "data": {
      "text/html": [
       "<div>\n",
       "<style scoped>\n",
       "    .dataframe tbody tr th:only-of-type {\n",
       "        vertical-align: middle;\n",
       "    }\n",
       "\n",
       "    .dataframe tbody tr th {\n",
       "        vertical-align: top;\n",
       "    }\n",
       "\n",
       "    .dataframe thead th {\n",
       "        text-align: right;\n",
       "    }\n",
       "</style>\n",
       "<table border=\"1\" class=\"dataframe\">\n",
       "  <thead>\n",
       "    <tr style=\"text-align: right;\">\n",
       "      <th></th>\n",
       "      <th>image_name</th>\n",
       "      <th>tags</th>\n",
       "    </tr>\n",
       "  </thead>\n",
       "  <tbody>\n",
       "    <tr>\n",
       "      <th>0</th>\n",
       "      <td>test_0.jpg</td>\n",
       "      <td>clear primary</td>\n",
       "    </tr>\n",
       "    <tr>\n",
       "      <th>1</th>\n",
       "      <td>test_1.jpg</td>\n",
       "      <td>clear primary</td>\n",
       "    </tr>\n",
       "    <tr>\n",
       "      <th>2</th>\n",
       "      <td>test_2.jpg</td>\n",
       "      <td>primary partly_cloudy</td>\n",
       "    </tr>\n",
       "    <tr>\n",
       "      <th>3</th>\n",
       "      <td>test_3.jpg</td>\n",
       "      <td>clear primary partly_cloudy</td>\n",
       "    </tr>\n",
       "    <tr>\n",
       "      <th>4</th>\n",
       "      <td>test_4.jpg</td>\n",
       "      <td>cloudy primary partly_cloudy</td>\n",
       "    </tr>\n",
       "  </tbody>\n",
       "</table>\n",
       "</div>"
      ],
      "text/plain": [
       "   image_name                          tags\n",
       "0  test_0.jpg                 clear primary\n",
       "1  test_1.jpg                 clear primary\n",
       "2  test_2.jpg         primary partly_cloudy\n",
       "3  test_3.jpg   clear primary partly_cloudy\n",
       "4  test_4.jpg  cloudy primary partly_cloudy"
      ]
     },
     "execution_count": 30,
     "metadata": {},
     "output_type": "execute_result"
    }
   ],
   "source": [
    "# concatenating the predictions of test.jpg and test-additional.jpg into a single dataframe\n",
    "final_result = pd.concat([result_df1, result_df2]) \n",
    "    \n",
    "final_result = final_result.reset_index().drop('index', axis=1)\n",
    "\n",
    "print(final_result.shape)\n",
    "final_result.head()"
   ]
  },
  {
   "cell_type": "code",
   "execution_count": 31,
   "id": "d579906a",
   "metadata": {},
   "outputs": [
    {
     "data": {
      "text/html": [
       "<div>\n",
       "<style scoped>\n",
       "    .dataframe tbody tr th:only-of-type {\n",
       "        vertical-align: middle;\n",
       "    }\n",
       "\n",
       "    .dataframe tbody tr th {\n",
       "        vertical-align: top;\n",
       "    }\n",
       "\n",
       "    .dataframe thead th {\n",
       "        text-align: right;\n",
       "    }\n",
       "</style>\n",
       "<table border=\"1\" class=\"dataframe\">\n",
       "  <thead>\n",
       "    <tr style=\"text-align: right;\">\n",
       "      <th></th>\n",
       "      <th>image_name</th>\n",
       "      <th>tags</th>\n",
       "    </tr>\n",
       "  </thead>\n",
       "  <tbody>\n",
       "    <tr>\n",
       "      <th>0</th>\n",
       "      <td>test_0</td>\n",
       "      <td>clear primary</td>\n",
       "    </tr>\n",
       "    <tr>\n",
       "      <th>1</th>\n",
       "      <td>test_1</td>\n",
       "      <td>clear primary</td>\n",
       "    </tr>\n",
       "    <tr>\n",
       "      <th>2</th>\n",
       "      <td>test_2</td>\n",
       "      <td>primary partly_cloudy</td>\n",
       "    </tr>\n",
       "    <tr>\n",
       "      <th>3</th>\n",
       "      <td>test_3</td>\n",
       "      <td>clear primary partly_cloudy</td>\n",
       "    </tr>\n",
       "    <tr>\n",
       "      <th>4</th>\n",
       "      <td>test_4</td>\n",
       "      <td>cloudy primary partly_cloudy</td>\n",
       "    </tr>\n",
       "  </tbody>\n",
       "</table>\n",
       "</div>"
      ],
      "text/plain": [
       "  image_name                          tags\n",
       "0     test_0                 clear primary\n",
       "1     test_1                 clear primary\n",
       "2     test_2         primary partly_cloudy\n",
       "3     test_3   clear primary partly_cloudy\n",
       "4     test_4  cloudy primary partly_cloudy"
      ]
     },
     "execution_count": 31,
     "metadata": {},
     "output_type": "execute_result"
    }
   ],
   "source": [
    "# confirming that the predicted images are ordered as in sample submission dataframe\n",
    "assert sum(sam_sub['image_name'] == final_result['image_name']) == 61191\n",
    "# removing the .jpg extension from 'image_name' column\n",
    "final_result['image_name'] = final_result['image_name'].apply(lambda x: x[:-4])\n",
    "final_result.head()"
   ]
  },
  {
   "cell_type": "code",
   "execution_count": 107,
   "id": "a4c088cf",
   "metadata": {},
   "outputs": [],
   "source": [
    "planet_model.save('model3.hdf5')"
   ]
  },
  {
   "cell_type": "code",
   "execution_count": null,
   "id": "c9ba2e80",
   "metadata": {},
   "outputs": [],
   "source": []
  }
 ],
 "metadata": {
  "kernelspec": {
   "display_name": "Python 3",
   "language": "python",
   "name": "python3"
  },
  "language_info": {
   "codemirror_mode": {
    "name": "ipython",
    "version": 3
   },
   "file_extension": ".py",
   "mimetype": "text/x-python",
   "name": "python",
   "nbconvert_exporter": "python",
   "pygments_lexer": "ipython3",
   "version": "3.8.8"
  }
 },
 "nbformat": 4,
 "nbformat_minor": 5
}
